{
 "cells": [
  {
   "cell_type": "code",
   "execution_count": 1,
   "id": "25d2a71a-6090-4e60-81cd-ee387ad3511a",
   "metadata": {},
   "outputs": [],
   "source": [
    "# import libraries \n",
    "\n",
    "from bs4 import BeautifulSoup\n",
    "import requests\n",
    "import time\n",
    "import datetime\n",
    "\n",
    "import smtplib"
   ]
  },
  {
   "cell_type": "code",
   "execution_count": 3,
   "id": "7874db93-8bc8-45a9-ad1e-c2ccc99d300c",
   "metadata": {},
   "outputs": [
    {
     "name": "stdout",
     "output_type": "stream",
     "text": [
      "Suknia balowa\n",
      "989,00 zł\n"
     ]
    }
   ],
   "source": [
    "# Connect to Website and pull in data\n",
    "\n",
    "URL = 'https://www.zalando.pl/hochzeitsatelier-irvalda-suknia-balowa-metallic-blue-h5b21c02v-k11.html'\n",
    "\n",
    "headers = {\"User-Agent\": \"Mozilla/5.0 (Windows NT 10.0; Win64; x64) AppleWebKit/537.36 (KHTML, like Gecko) Chrome/126.0.0.0 Safari/537.36\", \"Accept-Encoding\":\"gzip, deflate\", \"Accept\":\"text/html,application/xhtml+xml,application/xml;q=0.9,*/*;q=0.8\", \"DNT\":\"1\",\"Connection\":\"close\", \"Upgrade-Insecure-Requests\":\"1\"}\n",
    "\n",
    "page = requests.get(URL, headers=headers)\n",
    "\n",
    "soup1 = BeautifulSoup(page.content, \"html.parser\")\n",
    "\n",
    "soup2 = BeautifulSoup(soup1.prettify(), \"html.parser\")\n",
    "\n",
    "title = soup2.find('h1', class_='sDq_FX QdlUSH FxZV-M HlZ_Tf wYGQO3').get_text().strip()\n",
    "\n",
    "price = soup2.find('span', class_='sDq_FX _4sa1cA FxZV-M HlZ_Tf').get_text().strip()\n",
    "\n",
    "print(title)\n",
    "print(price)"
   ]
  },
  {
   "cell_type": "code",
   "execution_count": 21,
   "id": "45872fe3-7985-4aca-9377-2fa322efd857",
   "metadata": {},
   "outputs": [
    {
     "name": "stdout",
     "output_type": "stream",
     "text": [
      "2024-07-08\n"
     ]
    }
   ],
   "source": [
    "import datetime\n",
    "today = datetime.date.today()\n",
    "print(today)"
   ]
  },
  {
   "cell_type": "code",
   "execution_count": 26,
   "id": "90d90ed6-5ad9-4e76-b409-1fc24e823236",
   "metadata": {},
   "outputs": [],
   "source": [
    "import csv\n",
    "header = ['Title', 'Price', 'Date']\n",
    "data = [title, price, today]\n",
    "\n",
    "with open(r'C:\\Users\\Dell\\Desktop\\ZalandoDataSet.csv', 'w', newline='', encoding='UTF8') as f:\n",
    "    writer = csv.writer(f)\n",
    "    writer.writerow(header)\n",
    "    writer.writerow(data)\n"
   ]
  },
  {
   "cell_type": "code",
   "execution_count": 23,
   "id": "4be6a464-a7fc-4795-a000-6a340be738e5",
   "metadata": {},
   "outputs": [
    {
     "name": "stdout",
     "output_type": "stream",
     "text": [
      "['Suknia balowa', '989,00\\xa0zł', datetime.date(2024, 7, 8)]\n"
     ]
    }
   ],
   "source": [
    "print(data)"
   ]
  },
  {
   "cell_type": "code",
   "execution_count": 27,
   "id": "2b75055b-89e5-42ff-ad79-0ed6d1d1ecc6",
   "metadata": {},
   "outputs": [
    {
     "name": "stdout",
     "output_type": "stream",
     "text": [
      "           Title      Price        Date\n",
      "0  Suknia balowa  989,00 zł  2024-07-08\n"
     ]
    }
   ],
   "source": [
    "import pandas as pd\n",
    "\n",
    "df = pd.read_csv(r'C:\\Users\\Dell\\Desktop\\ZalandoDataSet.csv')\n",
    "\n",
    "print(df)"
   ]
  },
  {
   "cell_type": "code",
   "execution_count": 28,
   "id": "63386ce4-4b21-4c0d-a01e-b6da9df2cb23",
   "metadata": {},
   "outputs": [
    {
     "name": "stdout",
     "output_type": "stream",
     "text": [
      "           Title      Price        Date\n",
      "0  Suknia balowa  989,00 zł  2024-07-08\n"
     ]
    }
   ],
   "source": [
    "#Now we are appending data to the csv\n",
    "with open('ZalandoDataSet.csv', 'a+', newline= '', encoding = 'UTF8') as f:\n",
    "    writer = csv.writer(f)\n",
    "    writer.writerow(data)\n",
    "print(df)"
   ]
  },
  {
   "cell_type": "code",
   "execution_count": 29,
   "id": "b5c0955b-3cab-4812-9ba1-4248dafd99df",
   "metadata": {},
   "outputs": [],
   "source": [
    "\n",
    "def check_price():\n",
    "    URL = 'https://www.zalando.pl/hochzeitsatelier-irvalda-suknia-balowa-metallic-blue-h5b21c02v-k11.html'\n",
    "\n",
    "    headers = {\"User-Agent\": \"Mozilla/5.0 (Windows NT 10.0; Win64; x64) AppleWebKit/537.36 (KHTML, like Gecko) Chrome/126.0.0.0 Safari/537.36\", \"Accept-Encoding\":\"gzip, deflate\", \"Accept\":\"text/html,application/xhtml+xml,application/xml;q=0.9,*/*;q=0.8\", \"DNT\":\"1\",\"Connection\":\"close\", \"Upgrade-Insecure-Requests\":\"1\"}\n",
    "\n",
    "    page = requests.get(URL, headers=headers)\n",
    "\n",
    "    soup1 = BeautifulSoup(page.content, \"html.parser\")\n",
    "\n",
    "    soup2 = BeautifulSoup(soup1.prettify(), \"html.parser\")\n",
    "\n",
    "    title = soup2.find('h1', class_='sDq_FX QdlUSH FxZV-M HlZ_Tf wYGQO3').get_text().strip()\n",
    "\n",
    "    price = soup2.find('span', class_='sDq_FX _4sa1cA FxZV-M HlZ_Tf').get_text().strip()\n",
    "\n",
    "    import datetime\n",
    "    today = datetime.date.today()\n",
    "\n",
    "    import csv\n",
    "    header = ['Title', 'Price', 'Date']\n",
    "    data = [title, price, today]\n",
    "\n",
    "    with open(r'C:\\Users\\Dell\\Desktop\\ZalandoDataSet.csv', 'w', newline='', encoding='UTF8') as f:\n",
    "        writer = csv.writer(f)\n",
    "        writer.writerow(data)\n",
    "    "
   ]
  },
  {
   "cell_type": "code",
   "execution_count": null,
   "id": "dc14d329-e261-4f45-aa32-be5905652874",
   "metadata": {},
   "outputs": [],
   "source": [
    "while(True): \n",
    "    check_price()\n",
    "    time.sleep(86400)"
   ]
  },
  {
   "cell_type": "code",
   "execution_count": null,
   "id": "85955c80-0e65-4b8b-9ef1-505e139043e8",
   "metadata": {},
   "outputs": [],
   "source": [
    "import pandas as pd\n",
    "\n",
    "df = pd.read_csv(r'C:\\Users\\Dell\\Desktop\\ZalandoDataSet.csv')\n",
    "\n",
    "print(df)"
   ]
  },
  {
   "cell_type": "code",
   "execution_count": null,
   "id": "7f48247a-98d5-4a93-8cd2-420f5503ca6c",
   "metadata": {},
   "outputs": [],
   "source": [
    "#it can be used eg. for BlackFriday offers\n",
    "#if(price < 400):\n",
    "    send(mail)\n",
    "\n",
    "def send_mail():\n",
    "    server = smtplib.SMTP_SSL('smtp.gmail.com',465)\n",
    "    server.ehlo()\n",
    "    #server.starttls()\n",
    "    server.ehlo()\n",
    "    server.login('arleta.gruszkowska@gmail.com','xxxxxxxxxxxxxx')\n",
    "    \n",
    "    subject = \"The dress you want is below 400 PLN! Now is your chance to buy!\"\n",
    "    body = \"Arleta, This is the moment we have been waiting for. Now is your chance to get the dress of your dreams.\"\n",
    "   \n",
    "    msg = f\"Subject: {subject}\\n\\n{body}\"\n",
    "    \n",
    "    server.sendmail(\n",
    "        'arleta.gruszkowska@gmail.com',\n",
    "        msg\n",
    "     \n",
    "    )\n"
   ]
  },
  {
   "cell_type": "code",
   "execution_count": null,
   "id": "5611db7f-c362-471f-849d-f458bf8eefe1",
   "metadata": {},
   "outputs": [],
   "source": []
  }
 ],
 "metadata": {
  "kernelspec": {
   "display_name": "Python 3 (ipykernel)",
   "language": "python",
   "name": "python3"
  },
  "language_info": {
   "codemirror_mode": {
    "name": "ipython",
    "version": 3
   },
   "file_extension": ".py",
   "mimetype": "text/x-python",
   "name": "python",
   "nbconvert_exporter": "python",
   "pygments_lexer": "ipython3",
   "version": "3.11.7"
  },
  "widgets": {
   "application/vnd.jupyter.widget-state+json": {
    "state": {},
    "version_major": 2,
    "version_minor": 0
   }
  }
 },
 "nbformat": 4,
 "nbformat_minor": 5
}
