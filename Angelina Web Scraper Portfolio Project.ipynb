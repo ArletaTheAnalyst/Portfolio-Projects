{
 "cells": [
  {
   "cell_type": "code",
   "execution_count": 7,
   "id": "25d2a71a-6090-4e60-81cd-ee387ad3511a",
   "metadata": {},
   "outputs": [],
   "source": [
    "# import libraries \n",
    "\n",
    "from bs4 import BeautifulSoup\n",
    "import requests\n",
    "import time\n",
    "import datetime\n",
    "\n",
    "import smtplib"
   ]
  },
  {
   "cell_type": "code",
   "execution_count": 18,
   "id": "7874db93-8bc8-45a9-ad1e-c2ccc99d300c",
   "metadata": {},
   "outputs": [
    {
     "name": "stdout",
     "output_type": "stream",
     "text": [
      "Angelina Jolie\n",
      "Życiorys\n"
     ]
    }
   ],
   "source": [
    "# Connect to Website and pull in data\n",
    "\n",
    "URL = 'https://pl.wikipedia.org/wiki/Angelina_Jolie'\n",
    "\n",
    "headers = {\"User-Agent\": \"Mozilla/5.0 (Windows NT 10.0; Win64; x64) AppleWebKit/537.36 (KHTML, like Gecko) Chrome/126.0.0.0 Safari/537.36\", \"Accept-Encoding\":\"gzip, deflate\", \"Accept\":\"text/html,application/xhtml+xml,application/xml;q=0.9,*/*;q=0.8\", \"DNT\":\"1\",\"Connection\":\"close\", \"Upgrade-Insecure-Requests\":\"1\"}\n",
    "\n",
    "page = requests.get(URL, headers=headers)\n",
    "\n",
    "soup1 = BeautifulSoup(page.content, \"html.parser\")\n",
    "\n",
    "soup2 = BeautifulSoup(soup1.prettify(), \"html.parser\")\n",
    "\n",
    "title = soup2.find(id='firstHeading').get_text().strip()\n",
    "\n",
    "bio = soup2.find(id='Życiorys').get_text().strip()\n",
    "\n",
    "print(title)\n",
    "print(bio)"
   ]
  },
  {
   "cell_type": "code",
   "execution_count": 36,
   "id": "45872fe3-7985-4aca-9377-2fa322efd857",
   "metadata": {},
   "outputs": [
    {
     "name": "stdout",
     "output_type": "stream",
     "text": [
      "2024-06-24\n"
     ]
    }
   ],
   "source": [
    "import datetime\n",
    "today = datetime.date.today()\n",
    "print(today)"
   ]
  },
  {
   "cell_type": "code",
   "execution_count": 37,
   "id": "90d90ed6-5ad9-4e76-b409-1fc24e823236",
   "metadata": {},
   "outputs": [],
   "source": [
    "import csv\n",
    "header = ['Title', 'Bio', 'Date']\n",
    "data = [title, bio, today]\n",
    "type(data)\n",
    "\n",
    "#with open('AngelinaJolieWebScraperDataSet.csv', 'w', newline= '', encoding = 'UTF8') as f:\n",
    "    #writer = csv.writer(f)\n",
    "    #writer.writerow(header) #initial insertion of the data into the csv\n",
    "    #writer.writerow(data)\n",
    "    \n",
    "\n",
    "#w - means right\n",
    "#newline - when we insert data it doesn't have space between each csv"
   ]
  },
  {
   "cell_type": "code",
   "execution_count": 38,
   "id": "be9a5dfa-8ebf-407b-980f-58ece1c69ae8",
   "metadata": {},
   "outputs": [
    {
     "name": "stdout",
     "output_type": "stream",
     "text": [
      "['Angelina Jolie', 'Życiorys', datetime.date(2024, 6, 24)]\n"
     ]
    }
   ],
   "source": [
    "print(data)"
   ]
  },
  {
   "cell_type": "code",
   "execution_count": 47,
   "id": "2b75055b-89e5-42ff-ad79-0ed6d1d1ecc6",
   "metadata": {},
   "outputs": [
    {
     "name": "stdout",
     "output_type": "stream",
     "text": [
      "            Title       Bio        Date\n",
      "0  Angelina Jolie  Życiorys  2024-06-24\n"
     ]
    }
   ],
   "source": [
    "import pandas as pd\n",
    "\n",
    "df = pd.read_csv(r'C:\\Users\\Dell\\Desktop\\AngelinaJolieWebScraperDataSet.csv')\n",
    "\n",
    "print(df)"
   ]
  },
  {
   "cell_type": "code",
   "execution_count": 49,
   "id": "63386ce4-4b21-4c0d-a01e-b6da9df2cb23",
   "metadata": {},
   "outputs": [
    {
     "name": "stdout",
     "output_type": "stream",
     "text": [
      "            Title       Bio        Date\n",
      "0  Angelina Jolie  Życiorys  2024-06-24\n"
     ]
    }
   ],
   "source": [
    "#Now we are appending data to the csv\n",
    "with open('AngelinaJolieWebScraperDataSet.csv', 'a+', newline= '', encoding = 'UTF8') as f:\n",
    "    writer = csv.writer(f)\n",
    "    writer.writerow(data)\n",
    "print(df)"
   ]
  },
  {
   "cell_type": "code",
   "execution_count": 50,
   "id": "b5c0955b-3cab-4812-9ba1-4248dafd99df",
   "metadata": {},
   "outputs": [],
   "source": [
    "\n",
    "def check_bio():\n",
    "    URL = 'https://pl.wikipedia.org/wiki/Angelina_Jolie'\n",
    "\n",
    "    headers = {\"User-Agent\": \"Mozilla/5.0 (Windows NT 10.0; Win64; x64) AppleWebKit/537.36 (KHTML, like Gecko) Chrome/126.0.0.0 Safari/537.36\", \"Accept-Encoding\":\"gzip, deflate\", \"Accept\":\"text/html,application/xhtml+xml,application/xml;q=0.9,*/*;q=0.8\", \"DNT\":\"1\",\"Connection\":\"close\", \"Upgrade-Insecure-Requests\":\"1\"}\n",
    "\n",
    "    page = requests.get(URL, headers=headers)\n",
    "\n",
    "    soup1 = BeautifulSoup(page.content, \"html.parser\")\n",
    "\n",
    "    soup2 = BeautifulSoup(soup1.prettify(), \"html.parser\")\n",
    "\n",
    "    title = soup2.find(id='firstHeading').get_text().strip()\n",
    "\n",
    "    bio = soup2.find(id='Życiorys').get_text().strip()\n",
    "    import datetime\n",
    "    today = datetime.date.today()\n",
    "    import csv\n",
    "    header = ['Title', 'Bio', 'Date']\n",
    "    data = [title, bio, today]\n",
    "    with open('AngelinaJolieWebScraperDataSet.csv', 'a+', newline= '', encoding = 'UTF8') as f:\n",
    "        writer = csv.writer(f)\n",
    "        writer.writerow(data)\n",
    "    "
   ]
  },
  {
   "cell_type": "code",
   "execution_count": null,
   "id": "dc14d329-e261-4f45-aa32-be5905652874",
   "metadata": {},
   "outputs": [],
   "source": [
    "while(True): \n",
    "    check_bio()\n",
    "    time.sleep(86400)"
   ]
  },
  {
   "cell_type": "code",
   "execution_count": null,
   "id": "85955c80-0e65-4b8b-9ef1-505e139043e8",
   "metadata": {},
   "outputs": [],
   "source": [
    "import pandas as pd\n",
    "\n",
    "df = pd.read_csv(r'C:\\Users\\Dell\\Desktop\\AngelinaJolieWebScraperDataSet.csv')\n",
    "\n",
    "print(df)"
   ]
  },
  {
   "cell_type": "code",
   "execution_count": null,
   "id": "7f48247a-98d5-4a93-8cd2-420f5503ca6c",
   "metadata": {},
   "outputs": [],
   "source": [
    "#it can be used for BlackFriday offers\n",
    "#if(price < 14):\n",
    "    send(mail)\n",
    "\n",
    "# If uou want to try sending yourself an email (just for fun) when a price hits below a certain level you can try it\n",
    "# out with this script\n",
    "\n",
    "def send_mail():\n",
    "    server = smtplib.SMTP_SSL('smtp.gmail.com',465)\n",
    "    server.ehlo()\n",
    "    #server.starttls()\n",
    "    server.ehlo()\n",
    "    server.login('AlexTheAnalyst95@gmail.com','xxxxxxxxxxxxxx')\n",
    "    \n",
    "    subject = \"New information aboout Angelina Jolie\"\n",
    "    body = \"Arleta, Angelina's bio got updated.\"\n",
    "   \n",
    "    msg = f\"Subject: {subject}\\n\\n{body}\"\n",
    "    \n",
    "    server.sendmail(\n",
    "        'arleta.gruszkowska@gmail.com',\n",
    "        msg\n",
    "     \n",
    "    )\n"
   ]
  },
  {
   "cell_type": "code",
   "execution_count": null,
   "id": "155b1ca2-90fc-47d5-b749-bd49c0901c8d",
   "metadata": {},
   "outputs": [],
   "source": []
  },
  {
   "cell_type": "code",
   "execution_count": null,
   "id": "664ca831-2c43-4da2-a0c4-451404d4b82f",
   "metadata": {},
   "outputs": [],
   "source": []
  },
  {
   "cell_type": "code",
   "execution_count": null,
   "id": "de25ab9f-7a59-45ed-8f9c-1e16439cf953",
   "metadata": {},
   "outputs": [],
   "source": []
  },
  {
   "cell_type": "code",
   "execution_count": null,
   "id": "5611db7f-c362-471f-849d-f458bf8eefe1",
   "metadata": {},
   "outputs": [],
   "source": []
  },
  {
   "cell_type": "code",
   "execution_count": null,
   "id": "e0f10c18-59a4-45ea-9fcb-217d24e59d0e",
   "metadata": {},
   "outputs": [],
   "source": []
  },
  {
   "cell_type": "code",
   "execution_count": null,
   "id": "6d0463e9-f612-49c5-8f18-9f6684588a84",
   "metadata": {},
   "outputs": [],
   "source": []
  },
  {
   "cell_type": "code",
   "execution_count": null,
   "id": "31f78e27-8365-4844-aeae-07b089cf4045",
   "metadata": {},
   "outputs": [],
   "source": []
  },
  {
   "cell_type": "code",
   "execution_count": null,
   "id": "7e8d40a2-69ff-430e-9ef6-724753a8810a",
   "metadata": {},
   "outputs": [],
   "source": []
  },
  {
   "cell_type": "code",
   "execution_count": null,
   "id": "c06da3ac-1e42-411d-915d-09b6282569d7",
   "metadata": {},
   "outputs": [],
   "source": []
  },
  {
   "cell_type": "code",
   "execution_count": null,
   "id": "fd422456-efed-4d50-895d-ef074b3832b8",
   "metadata": {},
   "outputs": [],
   "source": []
  },
  {
   "cell_type": "code",
   "execution_count": null,
   "id": "e3efc306-9e69-436f-a2ed-ffdb2afcd9d0",
   "metadata": {},
   "outputs": [],
   "source": []
  }
 ],
 "metadata": {
  "kernelspec": {
   "display_name": "Python 3 (ipykernel)",
   "language": "python",
   "name": "python3"
  },
  "language_info": {
   "codemirror_mode": {
    "name": "ipython",
    "version": 3
   },
   "file_extension": ".py",
   "mimetype": "text/x-python",
   "name": "python",
   "nbconvert_exporter": "python",
   "pygments_lexer": "ipython3",
   "version": "3.11.7"
  },
  "widgets": {
   "application/vnd.jupyter.widget-state+json": {
    "state": {},
    "version_major": 2,
    "version_minor": 0
   }
  }
 },
 "nbformat": 4,
 "nbformat_minor": 5
}
